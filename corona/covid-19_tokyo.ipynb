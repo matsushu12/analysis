{
 "cells": [
  {
   "cell_type": "markdown",
   "metadata": {},
   "source": [
    "# ちょっとした説明\n",
    "\n",
    "【概要】\n",
    "\n",
    "東京都オープンデータカタログデータサイトから、\n",
    "\n",
    "東京都の新型コロナ陽性患者に関するデータをダウンロードし、\n",
    "\n",
    "新規感染者数の推移をグラフとカレンダーにまとめて出力するスクリプトです。\n",
    "\n",
    "データ：https://catalog.data.metro.tokyo.lg.jp/dataset/t000010d0000000068\n",
    "\n",
    "\n",
    "【準備】\n",
    "\n",
    "以下のブログを参考に、seleniumとChromeDriverをインストールしてください。\n",
    "\n",
    "https://qiita.com/kinpira/items/383b0fbee6bf229ea03d\n",
    "\n",
    "\n",
    "chromedriverはこのスクリプトと同じディレクトリにコピーしてください。\n",
    "\n",
    "\n",
    "【実行】\n",
    "\n",
    "この.ipynbを実行するだけでおけです。"
   ]
  },
  {
   "cell_type": "markdown",
   "metadata": {},
   "source": [
    "# 出力したいカレンダーの月を指定してください\n",
    "（一ヶ月分しか指定できません、すみません）"
   ]
  },
  {
   "cell_type": "code",
   "execution_count": 225,
   "metadata": {},
   "outputs": [],
   "source": [
    "year = 2020\n",
    "month = 4"
   ]
  },
  {
   "cell_type": "markdown",
   "metadata": {},
   "source": [
    "# 準備（データ取得と加工）"
   ]
  },
  {
   "cell_type": "code",
   "execution_count": 226,
   "metadata": {},
   "outputs": [],
   "source": [
    "%matplotlib inline\n",
    "import os\n",
    "import pandas as pd\n",
    "import numpy as np\n",
    "import datetime\n",
    "import time\n",
    "from matplotlib import pyplot as plt\n",
    "from matplotlib.dates import DateFormatter\n",
    "import calendar\n",
    "\n",
    "from selenium import webdriver"
   ]
  },
  {
   "cell_type": "code",
   "execution_count": 227,
   "metadata": {},
   "outputs": [],
   "source": [
    "# カレントディレクトリのパス取得\n",
    "current_path = os.getcwd()\n",
    "\n",
    "# 取得ファイル名\n",
    "data_name = '130001_tokyo_covid19_patients.csv'\n",
    "\n",
    "# すでにファイルがあれば削除\n",
    "if os.path.exists(os.path.join(current_path, '130001_tokyo_covid19_patients.csv')):\n",
    "    os.remove(data_name)\n",
    "\n",
    "# 今日の日付取得\n",
    "today  = datetime.date.today()\n",
    "\n",
    "# データ取得\n",
    "chromeOptions = webdriver.ChromeOptions()\n",
    "prefs = {\"download.default_directory\" : current_path}\n",
    "chromeOptions.add_experimental_option(\"prefs\",prefs)\n",
    "driver = webdriver.Chrome(os.path.join(current_path, 'chromedriver'), chrome_options=chromeOptions)\n",
    "driver.get('https://stopcovid19.metro.tokyo.lg.jp/data/130001_tokyo_covid19_patients.csv')\n",
    "time.sleep(4)\n",
    "driver.close()\n",
    "\n",
    "# データの加工\n",
    "df = pd.read_csv('130001_tokyo_covid19_patients.csv')\n",
    "grouped_count = df.groupby('公表_年月日').count()\n",
    "date_range = (today - datetime.date(2020, 1, 24)).days\n",
    "dates_DF = pd.DataFrame(index=pd.date_range('2020-01-24', periods=date_range, freq='D'))\n",
    "grouped_count=  grouped_count.merge(dates_DF, how=\"outer\", left_index=True, right_index=True)\n",
    "infected_transition = grouped_count['No'].fillna(0)\n",
    "week_movement_mean = infected_transition.rolling(window=7).mean().fillna(0)"
   ]
  },
  {
   "cell_type": "markdown",
   "metadata": {},
   "source": [
    "# 東京の新規感染者推移"
   ]
  },
  {
   "cell_type": "code",
   "execution_count": 232,
   "metadata": {},
   "outputs": [
    {
     "data": {
      "image/png": "[encoded data removed]",
      "text/plain": [
       "<Figure size 432x288 with 1 Axes>"
      ]
     },
     "metadata": {
      "needs_background": "light"
     },
     "output_type": "display_data"
    }
   ],
   "source": [
    "fig, ax = plt.subplots(subplot_kw=({\"xticks\":(np.arange(datetime.date(2020, 1, 24), today-datetime.timedelta(1), datetime.timedelta(5)))}))\n",
    "\n",
    "\n",
    "x_label = infected_transition.index.tolist()\n",
    "y1 = infected_transition.values.tolist()\n",
    "y2 = week_movement_mean.values.tolist()\n",
    "\n",
    "ax.set_title(\"Tokyo\", fontsize = 17)\n",
    "\n",
    "ax.bar(x_label, y1, width=1, label=\"infected\", edgecolor=\"gray\")\n",
    "ax.plot(x_label, y2, linewidth=0.8, color='red',\n",
    "        marker=\"o\", markersize=3, markeredgewidth=1, markeredgecolor=\"red\", markerfacecolor=\"red\",\n",
    "        label=\"moving average(7)\")\n",
    "ax.xaxis.set_major_formatter(DateFormatter('%m-%d'))\n",
    "ax.grid(which = \"major\", axis = \"x\", color = \"grey\", alpha = 0.3,\n",
    "        linestyle = \"--\", linewidth = 1)\n",
    "ax.grid(which = \"major\", axis = \"y\", color = \"grey\", alpha = 0.3,\n",
    "        linestyle = \"--\", linewidth = 1)\n",
    "\n",
    "# 凡例\n",
    "ax.legend(loc=0)\n",
    "plt.xticks(rotation=90)\n",
    "plt.xlabel('date', fontsize = 12)\n",
    "plt.savefig('tokyo.png') \n",
    "plt.show()"
   ]
  },
  {
   "cell_type": "markdown",
   "metadata": {},
   "source": [
    "# 東京コロナカレンダー"
   ]
  },
  {
   "cell_type": "code",
   "execution_count": 233,
   "metadata": {},
   "outputs": [],
   "source": [
    "df = pd.DataFrame(np.arange(70).reshape(10, 7),\n",
    "                  columns=['Mon', 'Tue', 'Wed', 'Thu', 'Fri', 'Sat', 'Sun'],\n",
    "                  index=['1st', '', '2nd', '', '3rd', '', '4th', '', '5th', ''])"
   ]
  },
  {
   "cell_type": "code",
   "execution_count": 234,
   "metadata": {},
   "outputs": [],
   "source": [
    "week_list = calendar.monthcalendar(year, month)\n",
    "\n",
    "ins = 1\n",
    "for _ in range(len(week_list)):\n",
    "    week_list.insert(ins, [ 0,  0,  0,  0,  0,  0,  0])\n",
    "    ins = ins + 2\n",
    "\n",
    "df = pd.DataFrame(np.array(week_list),\n",
    "                  columns=['Mon', 'Tue', 'Wed', 'Thu', 'Fri', 'Sat', 'Sun'],\n",
    "                  index=['1st', '', '2nd', '', '3rd', '', '4th', '', '5th', ''])\n",
    "df = df.replace(0, -1)"
   ]
  },
  {
   "cell_type": "code",
   "execution_count": 235,
   "metadata": {},
   "outputs": [],
   "source": [
    "infected_week = infected_transition[(infected_transition.index >= datetime.datetime(year,month,1)) & \n",
    "                                    (infected_transition.index< datetime.datetime(year,month+1,1))]"
   ]
  },
  {
   "cell_type": "code",
   "execution_count": 236,
   "metadata": {},
   "outputs": [],
   "source": [
    "day_index = 1\n",
    "day_col = calendar.monthrange(year, month)[0]\n",
    "\n",
    "for i in range(len(infected_week)):\n",
    "    df.iloc[day_index, day_col] = infected_week[i]\n",
    "    \n",
    "    if(i != 0 and df.columns[day_col] == 'Sun'):\n",
    "        day_col = -1\n",
    "        day_index = day_index + 2\n",
    "\n",
    "    day_col = day_col+1"
   ]
  },
  {
   "cell_type": "code",
   "execution_count": 237,
   "metadata": {},
   "outputs": [],
   "source": [
    "df = df.astype('int')\n",
    "df = df.astype('str')\n",
    "df = df.replace('-1', '')"
   ]
  },
  {
   "cell_type": "code",
   "execution_count": 238,
   "metadata": {},
   "outputs": [
    {
     "data": {
      "image/png": "[encoded data removed]",
      "text/plain": [
       "<Figure size 432x288 with 1 Axes>"
      ]
     },
     "metadata": {
      "needs_background": "light"
     },
     "output_type": "display_data"
    }
   ],
   "source": [
    "colors = [\n",
    "    [\"#CCFFFF\",\"#CCFFFF\",\"#CCFFFF\",\"#CCFFFF\",\"#CCFFFF\",\"#CCFFFF\",\"#CCFFFF\"],\n",
    "    [ \"w\",\"w\",\"w\",\"w\",\"w\",\"w\",\"w\"],\n",
    "    [\"#CCFFFF\",\"#CCFFFF\",\"#CCFFFF\",\"#CCFFFF\",\"#CCFFFF\",\"#CCFFFF\",\"#CCFFFF\"],\n",
    "    [ \"w\",\"w\",\"w\",\"w\",\"w\",\"w\",\"w\"],\n",
    "    [\"#CCFFFF\",\"#CCFFFF\",\"#CCFFFF\",\"#CCFFFF\",\"#CCFFFF\",\"#CCFFFF\",\"#CCFFFF\"],\n",
    "    [ \"w\",\"w\",\"w\",\"w\",\"w\",\"w\",\"w\"],\n",
    "    [\"#CCFFFF\",\"#CCFFFF\",\"#CCFFFF\",\"#CCFFFF\",\"#CCFFFF\",\"#CCFFFF\",\"#CCFFFF\"],\n",
    "    [ \"w\",\"w\",\"w\",\"w\",\"w\",\"w\",\"w\"],\n",
    "    [\"#CCFFFF\",\"#CCFFFF\",\"#CCFFFF\",\"#CCFFFF\",\"#CCFFFF\",\"#CCFFFF\",\"#CCFFFF\"],\n",
    "    [ \"w\",\"w\",\"w\",\"w\",\"w\",\"w\",\"w\"]\n",
    "]\n",
    "\n",
    "fig, ax = plt.subplots()\n",
    "ax.set_title(\"Tokyo Calender  \" + str(month), fontsize = 17)\n",
    "ax.axis('off')\n",
    "ax.axis('tight')\n",
    "ax.table(cellText=df.values,\n",
    "         colLabels=df.columns,\n",
    "         loc='center',\n",
    "         cellColours=colors,\n",
    "         colColours=[ \"#EEEEEE\",\"#EEEEEE\",\"#EEEEEE\",\"#EEEEEE\",\"#EEEEEE\",\"#0066FF\",\"#FF3333\"],\n",
    "         bbox=[0,0,1,1])\n",
    "\n",
    "plt.savefig('table.png')"
   ]
  },
  {
   "cell_type": "code",
   "execution_count": null,
   "metadata": {},
   "outputs": [],
   "source": []
  }
 ],
 "metadata": {
  "kernelspec": {
   "display_name": "Python 3",
   "language": "python",
   "name": "python3"
  },
  "language_info": {
   "codemirror_mode": {
    "name": "ipython",
    "version": 3
   },
   "file_extension": ".py",
   "mimetype": "text/x-python",
   "name": "python",
   "nbconvert_exporter": "python",
   "pygments_lexer": "ipython3",
   "version": "3.7.3"
  }
 },
 "nbformat": 4,
 "nbformat_minor": 2
}
